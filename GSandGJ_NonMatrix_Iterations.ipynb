{
 "cells": [
  {
   "cell_type": "code",
   "execution_count": 2,
   "id": "1769b2ef-3c67-4ac9-b7be-21064fecb5b2",
   "metadata": {},
   "outputs": [],
   "source": [
    "import numpy as np\n",
    "from math import sqrt"
   ]
  },
  {
   "cell_type": "code",
   "execution_count": 3,
   "id": "2ad8f50c-4312-41bc-bdfd-ef562bb11661",
   "metadata": {},
   "outputs": [],
   "source": [
    "#Gauss Seidel\n",
    "\n",
    "def Gauss_Seidel(A,e):\n",
    "    n = len(A)\n",
    "    x0 = np.zeros(n)\n",
    "    x_temp = np.zeros(n)\n",
    "    x1 = np.zeros(n)\n",
    "    count = 0\n",
    "\n",
    "    condition = True\n",
    "    while condition:\n",
    "        for i in range(0,n):\n",
    "            x0 = np.copy(x1)\n",
    "            x1[i] = np.around( (A[i,len(A)] - ( np.sum(np.around(A[i,:-1]*x1,5)) - np.around((A[i,i]*x1[i]),5) ))/(A[i,i]),5)\n",
    "            x_temp = abs(x1 - x0)\n",
    "        count += 1\n",
    "        print(x1)\n",
    "        # condition = (tolerance condidtion)\n",
    "        condition =  count <= 10"
   ]
  },
  {
   "cell_type": "code",
   "execution_count": 4,
   "id": "233b7e9a-5903-443a-b693-5bad419265af",
   "metadata": {},
   "outputs": [],
   "source": [
    "# Gauss Jacobi\n",
    "\n",
    "def Gauss_Jacobi(A,e):\n",
    "    n = len(A)\n",
    "    x0 = np.zeros(n)\n",
    "    x_temp = np.zeros(n)\n",
    "    x1 = np.zeros(n)\n",
    "    #e = 0.001\n",
    "    count = 0\n",
    "\n",
    "    condition = True\n",
    "    while condition:\n",
    "        x0 = np.copy(x1)\n",
    "        for i in range(0,n):\n",
    "            x1[i] = np.around( (A[i,len(A)] - ( np.sum(np.around(A[i,:-1]*x0,5)) - np.around((A[i,i]*x0[i]),5) ))/(A[i,i]),5)\n",
    "        x_temp = abs(x1 - x0)\n",
    "        count += 1\n",
    "        print(x1)\n",
    "        condition = count <= 10"
   ]
  },
  {
   "cell_type": "code",
   "execution_count": 5,
   "id": "37798ed0-ffa1-4432-be43-5eb8d433c197",
   "metadata": {},
   "outputs": [
    {
     "name": "stdout",
     "output_type": "stream",
     "text": [
      "[[-10.  22. -37.  35.   6.]\n",
      " [ -3.  43.  40.  41. -42.]\n",
      " [-35.  37.  12. -49. -23.]\n",
      " [ 22.   0. -38. -48.  43.]]\n"
     ]
    }
   ],
   "source": [
    "#A = np.around(np.array(np.random.rand(3*4),dtype=float),decimals = 5).reshape(3,4)\n",
    "A = A = np.array([[-10,22,-37,35,6],[-3,43,40,41,-42],[-35,37,12,-49,-23],[22,0,-38,-48,43]],dtype=float)\n",
    "tolerance = 0.1\n",
    "print(A)"
   ]
  },
  {
   "cell_type": "code",
   "execution_count": 6,
   "id": "6389a1c3-3d62-46c8-95d4-1de8f4202a0f",
   "metadata": {},
   "outputs": [
    {
     "name": "stdout",
     "output_type": "stream",
     "text": [
      "-----Jacobi--------\n",
      "[-0.6     -0.97674 -1.91667 -0.89583]\n",
      "[ 1.20745  1.61851 -4.31302  0.34653]\n",
      "[20.13175  2.7892  -1.97035  3.07206]\n",
      "[23.57874 -0.66849 60.74515  9.89108]\n",
      "[-192.20895  -65.26986  109.30441  -38.17882]\n",
      "[-682.24588  -79.66213 -517.17422 -175.52426]\n",
      "[ 1123.35302   599.87734 -2462.89964    95.83773]\n",
      "[10767.29087  2277.08599  1816.24524  2463.76985]\n",
      "[ 6912.07626 -3288.47676 34442.06012  3496.25167]\n",
      "[-122433.99047  -34891.49987   44574.13675  -24099.49181]\n",
      "[-326034.42702  -27028.6111  -347925.18916  -91404.33306]\n"
     ]
    }
   ],
   "source": [
    "print(\"-----Jacobi--------\")\n",
    "Gauss_Jacobi(A,tolerance)"
   ]
  },
  {
   "cell_type": "code",
   "execution_count": 7,
   "id": "79a77b52-83b3-4db2-bdc5-f1084a12c7a9",
   "metadata": {},
   "outputs": [
    {
     "name": "stdout",
     "output_type": "stream",
     "text": [
      "-----Seidel--------\n",
      "[-0.6     -1.0186  -0.52598 -0.75443]\n",
      "[-3.535300e+00 -1.477000e-02 -1.526301e+01  9.567040e+00]\n",
      "[  89.32528   10.33134  265.82585 -170.40054]\n",
      "[-1557.82859  -194.46739 -4641.77781  2959.84016]\n",
      "[ 27105.5902    3385.87061  80702.30102 -51466.82197]\n",
      "[ -471284.07533   -58880.1527  -1403189.52193   894852.2745 ]\n",
      "[  8194247.25595   1023752.03234  24397297.26768 -15558831.24044]\n",
      "[-1.42473655e+08 -1.78000190e+07 -4.24196666e+08  2.70521934e+08]\n",
      "[ 2.47719439e+09  3.09489546e+08  7.37552210e+09 -4.70357423e+09]\n",
      "[-4.30710646e+10 -5.38110545e+09 -1.28238458e+11  8.17812080e+10]\n",
      "[ 7.48878091e+11  9.35614666e+10  2.22968651e+12 -1.42193269e+12]\n"
     ]
    }
   ],
   "source": [
    "print(\"-----Seidel--------\")\n",
    "Gauss_Seidel(A,tolerance)"
   ]
  },
  {
   "cell_type": "code",
   "execution_count": null,
   "id": "1aca3ca7-67df-4058-8173-ebf1aa2cdcb5",
   "metadata": {},
   "outputs": [],
   "source": []
  }
 ],
 "metadata": {
  "kernelspec": {
   "display_name": "Python 3 (ipykernel)",
   "language": "python",
   "name": "python3"
  },
  "language_info": {
   "codemirror_mode": {
    "name": "ipython",
    "version": 3
   },
   "file_extension": ".py",
   "mimetype": "text/x-python",
   "name": "python",
   "nbconvert_exporter": "python",
   "pygments_lexer": "ipython3",
   "version": "3.9.7"
  }
 },
 "nbformat": 4,
 "nbformat_minor": 5
}
